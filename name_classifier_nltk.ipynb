{
  "nbformat": 4,
  "nbformat_minor": 0,
  "metadata": {
    "colab": {
      "name": "name_classifier_nltk",
      "version": "0.3.2",
      "provenance": [],
      "include_colab_link": true
    },
    "kernelspec": {
      "name": "python3",
      "display_name": "Python 3"
    }
  },
  "cells": [
    {
      "cell_type": "markdown",
      "metadata": {
        "id": "view-in-github",
        "colab_type": "text"
      },
      "source": [
        "[View in Colaboratory](https://colab.research.google.com/github/anirbanghoshsbi/Cleaning-text-Document/blob/master/name_classifier_nltk.ipynb)"
      ]
    },
    {
      "metadata": {
        "id": "HkAEXQtfKihh",
        "colab_type": "code",
        "colab": {
          "base_uri": "https://localhost:8080/",
          "height": 68
        },
        "outputId": "cf3dc426-7fc7-42a0-b323-c2a4509c2993"
      },
      "cell_type": "code",
      "source": [
        "# import libraries\n",
        "import collections\n",
        "import nltk\n",
        "from nltk.corpus import names\n",
        "nltk.download('names')"
      ],
      "execution_count": 4,
      "outputs": [
        {
          "output_type": "stream",
          "text": [
            "[nltk_data] Downloading package names to /root/nltk_data...\n",
            "[nltk_data]   Unzipping corpora/names.zip.\n"
          ],
          "name": "stdout"
        },
        {
          "output_type": "execute_result",
          "data": {
            "text/plain": [
              "True"
            ]
          },
          "metadata": {
            "tags": []
          },
          "execution_count": 4
        }
      ]
    },
    {
      "metadata": {
        "id": "bzA9wvjrLZmA",
        "colab_type": "code",
        "colab": {}
      },
      "cell_type": "code",
      "source": [
        "# check the number of girls name\n",
        "girl_names = names.words('female.txt')"
      ],
      "execution_count": 0,
      "outputs": []
    },
    {
      "metadata": {
        "id": "cfKF1rj4LlWR",
        "colab_type": "code",
        "colab": {
          "base_uri": "https://localhost:8080/",
          "height": 34
        },
        "outputId": "3239edd0-65b0-4b5e-b89a-1e4892873db3"
      },
      "cell_type": "code",
      "source": [
        "# check first ten names\n",
        "print(girl_names[:10])"
      ],
      "execution_count": 6,
      "outputs": [
        {
          "output_type": "stream",
          "text": [
            "['Abagael', 'Abagail', 'Abbe', 'Abbey', 'Abbi', 'Abbie', 'Abby', 'Abigael', 'Abigail', 'Abigale']\n"
          ],
          "name": "stdout"
        }
      ]
    },
    {
      "metadata": {
        "id": "fNVCJNu9L5Sn",
        "colab_type": "code",
        "colab": {}
      },
      "cell_type": "code",
      "source": [
        "#similarly check boys name\n",
        "boy_names = names.words('male.txt')"
      ],
      "execution_count": 0,
      "outputs": []
    },
    {
      "metadata": {
        "id": "GXCeqzb3MDww",
        "colab_type": "code",
        "colab": {
          "base_uri": "https://localhost:8080/",
          "height": 34
        },
        "outputId": "20cfe02a-6238-474c-cdc0-d6ce1f052898"
      },
      "cell_type": "code",
      "source": [
        "print(boy_names[:10])"
      ],
      "execution_count": 10,
      "outputs": [
        {
          "output_type": "stream",
          "text": [
            "['Aamir', 'Aaron', 'Abbey', 'Abbie', 'Abbot', 'Abbott', 'Abby', 'Abdel', 'Abdul', 'Abdulkarim']\n"
          ],
          "name": "stdout"
        }
      ]
    },
    {
      "metadata": {
        "id": "a7mFevSiMG_D",
        "colab_type": "code",
        "colab": {
          "base_uri": "https://localhost:8080/",
          "height": 34
        },
        "outputId": "3cc67379-90d2-4fa3-bb6b-7f46383f9cbc"
      },
      "cell_type": "code",
      "source": [
        "#number of boys name and number of girls name in the list\n",
        "print(\"No of boys names\" , len(boy_names))"
      ],
      "execution_count": 11,
      "outputs": [
        {
          "output_type": "stream",
          "text": [
            "No of boys names 2943\n"
          ],
          "name": "stdout"
        }
      ]
    },
    {
      "metadata": {
        "id": "HDH1Aa02Ma32",
        "colab_type": "code",
        "colab": {
          "base_uri": "https://localhost:8080/",
          "height": 34
        },
        "outputId": "75781b30-cd1a-4bc0-ec6a-3cf308873b51"
      },
      "cell_type": "code",
      "source": [
        "print(\"number of girls name\" , len(girl_names))"
      ],
      "execution_count": 12,
      "outputs": [
        {
          "output_type": "stream",
          "text": [
            "number of girls name 5001\n"
          ],
          "name": "stdout"
        }
      ]
    },
    {
      "metadata": {
        "id": "HlnR6of4MjfP",
        "colab_type": "code",
        "colab": {}
      },
      "cell_type": "code",
      "source": [
        "# find the number of girls name that ends in a \n",
        "girls_name_ending_in_a = [name for name in girl_names if name.endswith('a')]"
      ],
      "execution_count": 0,
      "outputs": []
    },
    {
      "metadata": {
        "id": "WPkdFrIwM62S",
        "colab_type": "code",
        "colab": {
          "base_uri": "https://localhost:8080/",
          "height": 34
        },
        "outputId": "20ddc998-1df2-4ccd-d3e8-238a7652d308"
      },
      "cell_type": "code",
      "source": [
        "print('Number of Girls  having names that end with a ',len(girls_name_ending_in_a))"
      ],
      "execution_count": 17,
      "outputs": [
        {
          "output_type": "stream",
          "text": [
            "Number of Girls  having names that end with a  1773\n"
          ],
          "name": "stdout"
        }
      ]
    },
    {
      "metadata": {
        "id": "dxg1m4JfNVD9",
        "colab_type": "code",
        "colab": {}
      },
      "cell_type": "code",
      "source": [
        "# most common letter girls name end with\n",
        "girl_name_ending_most_common = collections.Counter(name[-1] for name in girl_names)"
      ],
      "execution_count": 0,
      "outputs": []
    },
    {
      "metadata": {
        "id": "LHgSUuIHOAMw",
        "colab_type": "code",
        "colab": {
          "base_uri": "https://localhost:8080/",
          "height": 34
        },
        "outputId": "869eb13f-eacf-4513-fcd9-50d68e8a6532"
      },
      "cell_type": "code",
      "source": [
        "girl_name_ending_most_common.most_common(3)\n"
      ],
      "execution_count": 29,
      "outputs": [
        {
          "output_type": "execute_result",
          "data": {
            "text/plain": [
              "[('a', 1773), ('e', 1432), ('y', 461)]"
            ]
          },
          "metadata": {
            "tags": []
          },
          "execution_count": 29
        }
      ]
    },
    {
      "metadata": {
        "id": "zPJHs9X1ONJi",
        "colab_type": "code",
        "colab": {
          "base_uri": "https://localhost:8080/",
          "height": 68
        },
        "outputId": "8872a52d-7d36-4c8a-803c-2e2c8e7d7699"
      },
      "cell_type": "code",
      "source": [
        "#most common\n",
        "for ele , count in girl_name_ending_most_common.most_common(3):\n",
        "  print(ele , count)"
      ],
      "execution_count": 30,
      "outputs": [
        {
          "output_type": "stream",
          "text": [
            "a 1773\n",
            "e 1432\n",
            "y 461\n"
          ],
          "name": "stdout"
        }
      ]
    },
    {
      "metadata": {
        "id": "b_MuNVyVPfl4",
        "colab_type": "code",
        "colab": {
          "base_uri": "https://localhost:8080/",
          "height": 68
        },
        "outputId": "9b797fe2-3b95-46ab-c6c4-fd149eb292fa"
      },
      "cell_type": "code",
      "source": [
        "#least common\n",
        "for ele , count in girl_name_ending_most_common.most_common()[-3:]:\n",
        "  print(ele , count)"
      ],
      "execution_count": 46,
      "outputs": [
        {
          "output_type": "stream",
          "text": [
            "f 2\n",
            "  1\n",
            "j 1\n"
          ],
          "name": "stdout"
        }
      ]
    },
    {
      "metadata": {
        "id": "BwO52IlpPt8O",
        "colab_type": "code",
        "colab": {}
      },
      "cell_type": "code",
      "source": [
        "# building a name classifier\n",
        "import nltk\n",
        "from collections import Counter\n",
        "from nltk.corpus import names\n"
      ],
      "execution_count": 0,
      "outputs": []
    },
    {
      "metadata": {
        "id": "GlfbBo87R5mH",
        "colab_type": "code",
        "colab": {}
      },
      "cell_type": "code",
      "source": [
        "def extract_features(name):\n",
        "  return {'last_letter':name[-1]}"
      ],
      "execution_count": 0,
      "outputs": []
    },
    {
      "metadata": {
        "id": "elBAO3f3S3dd",
        "colab_type": "code",
        "colab": {}
      },
      "cell_type": "code",
      "source": [
        "# Get the names\n",
        "boy_names = names.words('male.txt')\n",
        "girl_names = names.words('female.txt')"
      ],
      "execution_count": 0,
      "outputs": []
    },
    {
      "metadata": {
        "id": "708NQ_9vTEok",
        "colab_type": "code",
        "colab": {}
      },
      "cell_type": "code",
      "source": [
        "#extract the features\n",
        "boy_name_dataset = [(extract_features(name),'boy') for name in boy_names]"
      ],
      "execution_count": 0,
      "outputs": []
    },
    {
      "metadata": {
        "id": "ATaXtIRjTWWY",
        "colab_type": "code",
        "colab": {
          "base_uri": "https://localhost:8080/",
          "height": 34
        },
        "outputId": "f26fd3e4-d81a-499b-8fd5-42262b9e70e7"
      },
      "cell_type": "code",
      "source": [
        "print(boy_name_dataset[:3])"
      ],
      "execution_count": 58,
      "outputs": [
        {
          "output_type": "stream",
          "text": [
            "[({'last_letter': 'r'}, 'boy'), ({'last_letter': 'n'}, 'boy'), ({'last_letter': 'y'}, 'boy')]\n"
          ],
          "name": "stdout"
        }
      ]
    },
    {
      "metadata": {
        "id": "NlYPvhnuTn29",
        "colab_type": "code",
        "colab": {}
      },
      "cell_type": "code",
      "source": [
        "#extract features fron the girl name dataset\n",
        "girl_name_dataset = [(extract_features(name), 'girl') for name in girl_names]"
      ],
      "execution_count": 0,
      "outputs": []
    },
    {
      "metadata": {
        "id": "__zCc9iEUH6W",
        "colab_type": "code",
        "colab": {}
      },
      "cell_type": "code",
      "source": [
        "#join the data\n",
        "data = boy_name_dataset + girl_name_dataset"
      ],
      "execution_count": 0,
      "outputs": []
    },
    {
      "metadata": {
        "id": "N9TYYA_7U9hl",
        "colab_type": "code",
        "colab": {}
      },
      "cell_type": "code",
      "source": [
        "#shuffle the data\n",
        "import random\n",
        "random.shuffle(data)"
      ],
      "execution_count": 0,
      "outputs": []
    },
    {
      "metadata": {
        "id": "fjiQxZyHVEWx",
        "colab_type": "code",
        "colab": {
          "base_uri": "https://localhost:8080/",
          "height": 187
        },
        "outputId": "770080de-3d65-4d02-817e-ea8b295552ae"
      },
      "cell_type": "code",
      "source": [
        "# check the first 10 entries\n",
        "data[:10]"
      ],
      "execution_count": 63,
      "outputs": [
        {
          "output_type": "execute_result",
          "data": {
            "text/plain": [
              "[({'last_letter': 'a'}, 'girl'),\n",
              " ({'last_letter': 'i'}, 'girl'),\n",
              " ({'last_letter': 'e'}, 'boy'),\n",
              " ({'last_letter': 'a'}, 'girl'),\n",
              " ({'last_letter': 'e'}, 'girl'),\n",
              " ({'last_letter': 'i'}, 'boy'),\n",
              " ({'last_letter': 'l'}, 'girl'),\n",
              " ({'last_letter': 'e'}, 'girl'),\n",
              " ({'last_letter': 'u'}, 'girl'),\n",
              " ({'last_letter': 'e'}, 'boy')]"
            ]
          },
          "metadata": {
            "tags": []
          },
          "execution_count": 63
        }
      ]
    },
    {
      "metadata": {
        "id": "XbzXthhDVKnp",
        "colab_type": "code",
        "colab": {}
      },
      "cell_type": "code",
      "source": [
        "# train test split\n",
        "cut_off = int(0.75*len(data))"
      ],
      "execution_count": 0,
      "outputs": []
    },
    {
      "metadata": {
        "id": "1CY1UG13VdlG",
        "colab_type": "code",
        "colab": {}
      },
      "cell_type": "code",
      "source": [
        "train , test = data[:cut_off], data[cut_off:]"
      ],
      "execution_count": 0,
      "outputs": []
    },
    {
      "metadata": {
        "id": "aMFr_POIVjdL",
        "colab_type": "code",
        "colab": {}
      },
      "cell_type": "code",
      "source": [
        "# use the nltk decisiontree classifier\n",
        "nltk_classifier = nltk.DecisionTreeClassifier.train(train)"
      ],
      "execution_count": 0,
      "outputs": []
    },
    {
      "metadata": {
        "id": "0Kf96OohWohC",
        "colab_type": "code",
        "colab": {
          "base_uri": "https://localhost:8080/",
          "height": 34
        },
        "outputId": "452e21b9-37bb-4d29-9452-b0108e77585b"
      },
      "cell_type": "code",
      "source": [
        "nltk_classifier.classify(extract_features('Ashit'))"
      ],
      "execution_count": 81,
      "outputs": [
        {
          "output_type": "execute_result",
          "data": {
            "text/plain": [
              "'boy'"
            ]
          },
          "metadata": {
            "tags": []
          },
          "execution_count": 81
        }
      ]
    },
    {
      "metadata": {
        "id": "T2e8h_FCV5r3",
        "colab_type": "code",
        "colab": {
          "base_uri": "https://localhost:8080/",
          "height": 164
        },
        "outputId": "6691bc5d-fa73-438e-a4bd-f9fbec8de13b"
      },
      "cell_type": "code",
      "source": [
        "# accuracy of the classifier\n",
        "nltk_classifier.accuracy((nltk.classifier,test))"
      ],
      "execution_count": 82,
      "outputs": [
        {
          "output_type": "error",
          "ename": "AttributeError",
          "evalue": "ignored",
          "traceback": [
            "\u001b[0;31m---------------------------------------------------------------------------\u001b[0m",
            "\u001b[0;31mAttributeError\u001b[0m                            Traceback (most recent call last)",
            "\u001b[0;32m<ipython-input-82-f536e5b3a45e>\u001b[0m in \u001b[0;36m<module>\u001b[0;34m()\u001b[0m\n\u001b[0;32m----> 1\u001b[0;31m \u001b[0mnltk_classifier\u001b[0m\u001b[0;34m.\u001b[0m\u001b[0maccuracy\u001b[0m\u001b[0;34m(\u001b[0m\u001b[0;34m(\u001b[0m\u001b[0mnltk\u001b[0m\u001b[0;34m.\u001b[0m\u001b[0mclassifier\u001b[0m\u001b[0;34m,\u001b[0m\u001b[0mtest\u001b[0m\u001b[0;34m)\u001b[0m\u001b[0;34m)\u001b[0m\u001b[0;34m\u001b[0m\u001b[0m\n\u001b[0m",
            "\u001b[0;31mAttributeError\u001b[0m: 'DecisionTreeClassifier' object has no attribute 'accuracy'"
          ]
        }
      ]
    },
    {
      "metadata": {
        "id": "88D6MRbiWQF0",
        "colab_type": "code",
        "colab": {}
      },
      "cell_type": "code",
      "source": [
        ""
      ],
      "execution_count": 0,
      "outputs": []
    }
  ]
}