{
  "nbformat": 4,
  "nbformat_minor": 0,
  "metadata": {
    "colab": {
      "name": "nlp_practice.ipynb",
      "version": "0.3.2",
      "provenance": [],
      "collapsed_sections": [],
      "include_colab_link": true
    },
    "kernelspec": {
      "name": "python3",
      "display_name": "Python 3"
    }
  },
  "cells": [
    {
      "cell_type": "markdown",
      "metadata": {
        "id": "view-in-github",
        "colab_type": "text"
      },
      "source": [
        "[View in Colaboratory](https://colab.research.google.com/github/anirbanghoshsbi/Cleaning-text-Document/blob/master/nlp_practice.ipynb)"
      ]
    },
    {
      "metadata": {
        "id": "HD8IS7EhN_da",
        "colab_type": "code",
        "colab": {}
      },
      "cell_type": "code",
      "source": [
        "sentence = 'As described in the paper, one of the models uses a pretrained word2vec model to initialize the weights of the embedding layer. The pretrained model can be obtained from:'"
      ],
      "execution_count": 0,
      "outputs": []
    },
    {
      "metadata": {
        "id": "lLgvjOq_OLj3",
        "colab_type": "code",
        "colab": {
          "base_uri": "https://localhost:8080/",
          "height": 51
        },
        "outputId": "0adf95fc-dc94-4407-a79d-f3ac82ef8626"
      },
      "cell_type": "code",
      "source": [
        "import nltk\n",
        "nltk.download('punkt')\n",
        "from nltk.tokenize import word_tokenize\n",
        "\n",
        "tokens = word_tokenize(sentence)"
      ],
      "execution_count": 35,
      "outputs": [
        {
          "output_type": "stream",
          "text": [
            "[nltk_data] Downloading package punkt to /root/nltk_data...\n",
            "[nltk_data]   Package punkt is already up-to-date!\n"
          ],
          "name": "stdout"
        }
      ]
    },
    {
      "metadata": {
        "id": "5W3h2QdfOeIF",
        "colab_type": "code",
        "colab": {}
      },
      "cell_type": "code",
      "source": [
        "import collections\n",
        "vocabulary = collections.Counter(tokens).most_common()"
      ],
      "execution_count": 0,
      "outputs": []
    },
    {
      "metadata": {
        "id": "v7t1ch3TO0AT",
        "colab_type": "code",
        "colab": {}
      },
      "cell_type": "code",
      "source": [
        "vocabulary_dictionary = dict()\n",
        "for word,index in vocabulary:\n",
        "        # Assign a numerical unique value to each word inside vocabulary \n",
        "        vocabulary_dictionary[word] = index"
      ],
      "execution_count": 0,
      "outputs": []
    },
    {
      "metadata": {
        "id": "8mVieUtJPJn2",
        "colab_type": "code",
        "colab": {
          "base_uri": "https://localhost:8080/",
          "height": 459
        },
        "outputId": "cc5f81d1-4fc3-481f-e6fa-3facf92be6f8"
      },
      "cell_type": "code",
      "source": [
        "vocabulary_dictionary"
      ],
      "execution_count": 38,
      "outputs": [
        {
          "output_type": "execute_result",
          "data": {
            "text/plain": [
              "{',': 1,\n",
              " '.': 1,\n",
              " ':': 1,\n",
              " 'As': 1,\n",
              " 'The': 1,\n",
              " 'a': 1,\n",
              " 'be': 1,\n",
              " 'can': 1,\n",
              " 'described': 1,\n",
              " 'embedding': 1,\n",
              " 'from': 1,\n",
              " 'in': 1,\n",
              " 'initialize': 1,\n",
              " 'layer': 1,\n",
              " 'model': 2,\n",
              " 'models': 1,\n",
              " 'obtained': 1,\n",
              " 'of': 2,\n",
              " 'one': 1,\n",
              " 'paper': 1,\n",
              " 'pretrained': 2,\n",
              " 'the': 4,\n",
              " 'to': 1,\n",
              " 'uses': 1,\n",
              " 'weights': 1,\n",
              " 'word2vec': 1}"
            ]
          },
          "metadata": {
            "tags": []
          },
          "execution_count": 38
        }
      ]
    },
    {
      "metadata": {
        "id": "hbsKwaH4PtRx",
        "colab_type": "code",
        "colab": {}
      },
      "cell_type": "code",
      "source": [
        "vocab_dict={}\n",
        "for word, _ in vocabulary:\n",
        "        # Assign a numerical unique value to each word inside vocabulary \n",
        "        #print(len(vocab_dict))\n",
        "        vocab_dict[word] = len(vocab_dict)\n",
        "rev_vocabulary_dictionary = dict(zip(vocab_dict.values(), vocab_dict.keys()))"
      ],
      "execution_count": 0,
      "outputs": []
    },
    {
      "metadata": {
        "id": "7ALTbCOFP6og",
        "colab_type": "code",
        "colab": {
          "base_uri": "https://localhost:8080/",
          "height": 34
        },
        "outputId": "f8d4f920-21b6-4741-916c-8a5bac0ab9dd"
      },
      "cell_type": "code",
      "source": [
        "vocab_dict.values()"
      ],
      "execution_count": 43,
      "outputs": [
        {
          "output_type": "execute_result",
          "data": {
            "text/plain": [
              "dict_values([0, 1, 2, 3, 4, 5, 6, 7, 8, 9, 10, 11, 12, 13, 14, 15, 16, 17, 18, 19, 20, 21, 22, 23, 24, 25])"
            ]
          },
          "metadata": {
            "tags": []
          },
          "execution_count": 43
        }
      ]
    },
    {
      "metadata": {
        "id": "LIwiNlpyP9t1",
        "colab_type": "code",
        "colab": {
          "base_uri": "https://localhost:8080/",
          "height": 459
        },
        "outputId": "76d4dac5-e0ba-422b-b413-42dbcb2d4774"
      },
      "cell_type": "code",
      "source": [
        "rev_vocabulary_dictionary"
      ],
      "execution_count": 41,
      "outputs": [
        {
          "output_type": "execute_result",
          "data": {
            "text/plain": [
              "{0: 'the',\n",
              " 1: 'of',\n",
              " 2: 'pretrained',\n",
              " 3: 'model',\n",
              " 4: 'As',\n",
              " 5: 'described',\n",
              " 6: 'in',\n",
              " 7: 'paper',\n",
              " 8: ',',\n",
              " 9: 'one',\n",
              " 10: 'models',\n",
              " 11: 'uses',\n",
              " 12: 'a',\n",
              " 13: 'word2vec',\n",
              " 14: 'to',\n",
              " 15: 'initialize',\n",
              " 16: 'weights',\n",
              " 17: 'embedding',\n",
              " 18: 'layer',\n",
              " 19: '.',\n",
              " 20: 'The',\n",
              " 21: 'can',\n",
              " 22: 'be',\n",
              " 23: 'obtained',\n",
              " 24: 'from',\n",
              " 25: ':'}"
            ]
          },
          "metadata": {
            "tags": []
          },
          "execution_count": 41
        }
      ]
    },
    {
      "metadata": {
        "id": "ZY8SZxCTTpqF",
        "colab_type": "code",
        "colab": {}
      },
      "cell_type": "code",
      "source": [
        "def sampling(words, vocabulary_dictionary, window):\n",
        "    X = []\n",
        "    Y = []\n",
        "    sample = []\n",
        "    for index in range(0, len(words)-window):\n",
        "        for i in range(0, window):\n",
        "            sample.append(vocabulary_dictionary[words[index + i]])\n",
        "            if (i + 1) % window == 0:\n",
        "                X.append(sample)\n",
        "                Y.append(vocabulary_dictionary[words[index + i + 1]])\n",
        "                sample = []\n",
        "    return X,Y"
      ],
      "execution_count": 0,
      "outputs": []
    },
    {
      "metadata": {
        "id": "RZCj-jpQTt0J",
        "colab_type": "code",
        "colab": {}
      },
      "cell_type": "code",
      "source": [
        "training_data, label = sampling(tokens, vocab_dict, window=4)"
      ],
      "execution_count": 0,
      "outputs": []
    },
    {
      "metadata": {
        "id": "6_C1B8VRT_6r",
        "colab_type": "code",
        "colab": {
          "base_uri": "https://localhost:8080/",
          "height": 493
        },
        "outputId": "3a91ed86-8308-4606-adbd-d32fe53fb52d"
      },
      "cell_type": "code",
      "source": [
        "training_data\n",
        "#label"
      ],
      "execution_count": 57,
      "outputs": [
        {
          "output_type": "execute_result",
          "data": {
            "text/plain": [
              "[[4, 5, 6, 0],\n",
              " [5, 6, 0, 7],\n",
              " [6, 0, 7, 8],\n",
              " [0, 7, 8, 9],\n",
              " [7, 8, 9, 1],\n",
              " [8, 9, 1, 0],\n",
              " [9, 1, 0, 10],\n",
              " [1, 0, 10, 11],\n",
              " [0, 10, 11, 12],\n",
              " [10, 11, 12, 2],\n",
              " [11, 12, 2, 13],\n",
              " [12, 2, 13, 3],\n",
              " [2, 13, 3, 14],\n",
              " [13, 3, 14, 15],\n",
              " [3, 14, 15, 0],\n",
              " [14, 15, 0, 16],\n",
              " [15, 0, 16, 1],\n",
              " [0, 16, 1, 0],\n",
              " [16, 1, 0, 17],\n",
              " [1, 0, 17, 18],\n",
              " [0, 17, 18, 19],\n",
              " [17, 18, 19, 20],\n",
              " [18, 19, 20, 2],\n",
              " [19, 20, 2, 3],\n",
              " [20, 2, 3, 21],\n",
              " [2, 3, 21, 22],\n",
              " [3, 21, 22, 23],\n",
              " [21, 22, 23, 24]]"
            ]
          },
          "metadata": {
            "tags": []
          },
          "execution_count": 57
        }
      ]
    },
    {
      "metadata": {
        "id": "UKlg_W1hUBcs",
        "colab_type": "code",
        "colab": {}
      },
      "cell_type": "code",
      "source": [
        ""
      ],
      "execution_count": 0,
      "outputs": []
    }
  ]
}